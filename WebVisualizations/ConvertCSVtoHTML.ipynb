{
 "cells": [
  {
   "cell_type": "code",
   "execution_count": 1,
   "metadata": {},
   "outputs": [],
   "source": [
    "import pandas as pd"
   ]
  },
  {
   "cell_type": "code",
   "execution_count": 2,
   "metadata": {},
   "outputs": [],
   "source": [
    "# Read csv from api challenge and output in html format\n",
    "data_path = \"Resources/cities.csv\"\n",
    "weather_data = pd.read_csv(data_path)\n",
    "weather_data.to_html(\"Resources/cities.html\", index=True)"
   ]
  },
  {
   "cell_type": "code",
   "execution_count": 5,
   "metadata": {},
   "outputs": [],
   "source": [
    "# note above code exports with following table def\n",
    "# <table border=\"1\" class=\"dataframe\">\n",
    "#  <thead>\n",
    "#    <tr style=\"text-align: right;\">\n",
    "\n",
    "# but I want to import with the following def\n",
    "#        <table class=\"table table-striped table table-hover table-condensed\">\n",
    "#          <thead>\n",
    "#            <tr style=\"text-align: left;\">\n",
    "\n",
    "# edit output after creating, but research whether I can do this in this code rather than remember to update\n"
   ]
  },
  {
   "cell_type": "code",
   "execution_count": null,
   "metadata": {},
   "outputs": [],
   "source": []
  }
 ],
 "metadata": {
  "kernelspec": {
   "display_name": "Python 3",
   "language": "python",
   "name": "python3"
  },
  "language_info": {
   "codemirror_mode": {
    "name": "ipython",
    "version": 3
   },
   "file_extension": ".py",
   "mimetype": "text/x-python",
   "name": "python",
   "nbconvert_exporter": "python",
   "pygments_lexer": "ipython3",
   "version": "3.6.10"
  }
 },
 "nbformat": 4,
 "nbformat_minor": 4
}
